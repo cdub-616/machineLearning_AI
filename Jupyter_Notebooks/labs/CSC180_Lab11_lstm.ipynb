{
  "cells": [
    {
      "cell_type": "markdown",
      "metadata": {
        "id": "B0Fta7q5pCBj"
      },
      "source": [
        "# Lab 11: Time-Series Forcasting using Recurrent Neural Networks\n",
        "\n"
      ]
    },
    {
      "cell_type": "markdown",
      "metadata": {
        "id": "fXgryYuipCBh"
      },
      "source": [
        "#### CSC 180 Intelligent Systems\n"
      ]
    },
    {
      "cell_type": "markdown",
      "metadata": {
        "id": "lJ_ven3opCBk"
      },
      "source": [
        "### Helpful Functions for Tensorflow (Little Gems)\n",
        "\n",
        "The following functions will be used with TensorFlow to help preprocess the data.  They allow you to build the feature vector for a neural network.\n",
        "\n",
        "* Predictors/Inputs\n",
        "    * Fill any missing inputs with the median for that column.  Use **missing_median**.\n",
        "    * Encode textual/categorical values with **encode_text_dummy**.\n",
        "    * Encode numeric values with **encode_numeric_zscore**.\n",
        "* Output\n",
        "    * Discard rows with missing outputs.\n",
        "    * Encode textual/categorical values with **encode_text_index**.\n",
        "    * Do not encode output numeric values.\n",
        "* Convert dataframe to numpy array to create feature vectors (x) and expected output (y) with **to_xy**."
      ]
    },
    {
      "cell_type": "code",
      "execution_count": 1,
      "metadata": {
        "id": "Zm0nJfP-pCBl"
      },
      "outputs": [],
      "source": [
        "from collections.abc import Sequence\n",
        "from sklearn import preprocessing\n",
        "import matplotlib.pyplot as plt\n",
        "import numpy as np\n",
        "import pandas as pd\n",
        "import shutil\n",
        "import os\n",
        "\n",
        "\n",
        "# Encode text values to dummy variables(i.e. [1,0,0],[0,1,0],[0,0,1] for red,green,blue)\n",
        "def encode_text_dummy(df, name):\n",
        "    dummies = pd.get_dummies(df[name])\n",
        "    for x in dummies.columns:\n",
        "        dummy_name = \"{}-{}\".format(name, x)\n",
        "        df[dummy_name] = dummies[x]\n",
        "    df.drop(name, axis=1, inplace=True)\n",
        "\n",
        "\n",
        "# Encode text values to indexes(i.e. [1],[2],[3] for red,green,blue).\n",
        "def encode_text_index(df, name):\n",
        "    le = preprocessing.LabelEncoder()\n",
        "    df[name] = le.fit_transform(df[name])\n",
        "    return le.classes_\n",
        "\n",
        "\n",
        "# Encode a numeric column as zscores\n",
        "def encode_numeric_zscore(df, name, mean=None, sd=None):\n",
        "    if mean is None:\n",
        "        mean = df[name].mean()\n",
        "\n",
        "    if sd is None:\n",
        "        sd = df[name].std()\n",
        "\n",
        "    df[name] = (df[name] - mean) / sd\n",
        "\n",
        "\n",
        "# Convert all missing values in the specified column to the median\n",
        "def missing_median(df, name):\n",
        "    med = df[name].median()\n",
        "    df[name] = df[name].fillna(med)\n",
        "\n",
        "\n",
        "# Convert all missing values in the specified column to the default\n",
        "def missing_default(df, name, default_value):\n",
        "    df[name] = df[name].fillna(default_value)\n",
        "\n",
        "\n",
        "# Convert a Pandas dataframe to the x,y inputs that TensorFlow needs\n",
        "def to_xy(df, target):\n",
        "    result = []\n",
        "    for x in df.columns:\n",
        "        if x != target:\n",
        "            result.append(x)\n",
        "    # find out the type of the target column.\n",
        "    target_type = df[target].dtypes\n",
        "    target_type = target_type[0] if isinstance(target_type, Sequence) else target_type\n",
        "    # Encode to int for classification, float otherwise. TensorFlow likes 32 bits.\n",
        "    if target_type in (np.int64, np.int32):\n",
        "        # Classification\n",
        "        dummies = pd.get_dummies(df[target])\n",
        "        return df[result].values.astype(np.float32), dummies.values.astype(np.float32)\n",
        "    else:\n",
        "        # Regression\n",
        "        return df[result].values.astype(np.float32), df[target].values.astype(np.float32)\n",
        "\n",
        "# Nicely formatted time string\n",
        "def hms_string(sec_elapsed):\n",
        "    h = int(sec_elapsed / (60 * 60))\n",
        "    m = int((sec_elapsed % (60 * 60)) / 60)\n",
        "    s = sec_elapsed % 60\n",
        "    return \"{}:{:>02}:{:>05.2f}\".format(h, m, s)\n",
        "\n",
        "\n",
        "# Regression chart.\n",
        "def chart_regression(pred,y,sort=True):\n",
        "    t = pd.DataFrame({'pred' : pred, 'y' : y.flatten()})\n",
        "    if sort:\n",
        "        t.sort_values(by=['y'],inplace=True)\n",
        "    a = plt.plot(t['y'].tolist(),label='expected')\n",
        "    b = plt.plot(t['pred'].tolist(),label='prediction')\n",
        "    plt.ylabel('output')\n",
        "    plt.legend()\n",
        "    plt.show()\n",
        "\n",
        "# Remove all rows where the specified column is +/- sd standard deviations\n",
        "def remove_outliers(df, name, sd):\n",
        "    drop_rows = df.index[(np.abs(df[name] - df[name].mean()) >= (sd * df[name].std()))]\n",
        "    df.drop(drop_rows, axis=0, inplace=True)\n",
        "\n",
        "\n",
        "# Encode a column to a range between normalized_low and normalized_high.\n",
        "def encode_numeric_range(df, name, normalized_low=-1, normalized_high=1,\n",
        "                         data_low=None, data_high=None):\n",
        "    if data_low is None:\n",
        "        data_low = min(df[name])\n",
        "        data_high = max(df[name])\n",
        "\n",
        "    df[name] = ((df[name] - data_low) / (data_high - data_low)) \\\n",
        "               * (normalized_high - normalized_low) + normalized_low\n"
      ]
    },
    {
      "cell_type": "markdown",
      "metadata": {
        "id": "NM4Gt1g1pCBn"
      },
      "source": [
        "## Recurrent Neural Networks (a network that can remember the past input)\n",
        "\n",
        "So far the neural networks that we’ve examined have always had forward connections.  ***these networks are called “feedforward.”***  \n",
        "\n",
        "In Recurrent neural networks, \"backward/recurrent connections\" are also allowed. A \"backward/recurrent connection\" occurs when a connection is formed between a neuron and a neuron at the same level or a neuron at a previous level.\n",
        "\n",
        "\n",
        "Most recurrent neural network architectures maintain \"state\" in the recurrent connections.  ***A recurrent neural network’s state acts as a short-term memory (context) for the neural network.***  Consequently, a recurrent neural network will not always produce the same output for a given input."
      ]
    },
    {
      "cell_type": "markdown",
      "metadata": {
        "id": "B4OO6Dg5pCBo"
      },
      "source": [
        "## Therefore, RNN is good at predicting over sequentail data (a sequnce of vectors)"
      ]
    },
    {
      "cell_type": "markdown",
      "metadata": {
        "id": "wzPeNuxopCBo"
      },
      "source": [
        "### Notice that if we want to ***predict something over a sequence***,  we need to ***sequence*** our data by adding a dimension.  \n",
        "\n",
        "### x should be of 3 dimensions."
      ]
    },
    {
      "cell_type": "code",
      "execution_count": 2,
      "metadata": {
        "colab": {
          "base_uri": "https://localhost:8080/"
        },
        "id": "ZcgWkOU0pCBp",
        "outputId": "cf755f2e-53d2-4944-b319-d23d1e8e2303"
      },
      "outputs": [
        {
          "data": {
            "text/plain": [
              "(5, 5, 2)"
            ]
          },
          "execution_count": 2,
          "metadata": {},
          "output_type": "execute_result"
        }
      ],
      "source": [
        "x = [\n",
        "    [[32,1383],[41,2928],[39,8823],[20,1252],[15,1532]],\n",
        "    [[35,8272],[32,1383],[41,2928],[39,8823],[20,1252]],\n",
        "    [[37,2738],[35,8272],[32,1383],[41,2928],[39,8823]],\n",
        "    [[34,2845],[37,2738],[35,8272],[32,1383],[41,2928]],\n",
        "    [[32,2345],[34,2845],[37,2738],[35,8272],[32,1383]],\n",
        "]\n",
        "\n",
        "y = [\n",
        "    1,\n",
        "    -1,\n",
        "    0,\n",
        "    -1,\n",
        "    1\n",
        "]\n",
        "\n",
        "np.array(x).shape"
      ]
    },
    {
      "cell_type": "markdown",
      "metadata": {
        "id": "PQ8xfT47pCBq"
      },
      "source": [
        "# LSTM layers in TensorFlow\n",
        "\n",
        "Long Short Term Neural Network (LSTM) are ***a type of recurrent unit***.  For TensorFlow, LSTM is provided as a layer type that can be combined with other layer types, such as dense.  \n",
        "\n",
        "https://keras.io/layers/recurrent/\n"
      ]
    },
    {
      "cell_type": "markdown",
      "metadata": {
        "id": "llnv7n4-pCBr"
      },
      "source": [
        "# LSTM Example for Classification\n",
        "\n",
        "The following code creates the LSTM network.  This is an example of RNN classification.  The following code trains on a data set (x) with a max sequence size of 6 (columns) and 6 training elements (rows)"
      ]
    },
    {
      "cell_type": "code",
      "execution_count": 3,
      "metadata": {
        "colab": {
          "base_uri": "https://localhost:8080/"
        },
        "id": "JK7JoUAppCBr",
        "outputId": "4631f348-ef81-4138-9242-4e97b024b545"
      },
      "outputs": [
        {
          "name": "stdout",
          "output_type": "stream",
          "text": [
            "WARNING:tensorflow:From c:\\Users\\cdub6\\anaconda3\\Lib\\site-packages\\keras\\src\\losses.py:2976: The name tf.losses.sparse_softmax_cross_entropy is deprecated. Please use tf.compat.v1.losses.sparse_softmax_cross_entropy instead.\n",
            "\n"
          ]
        },
        {
          "data": {
            "text/plain": [
              "array([[0., 1., 0., 0.],\n",
              "       [0., 0., 1., 0.],\n",
              "       [0., 0., 0., 1.],\n",
              "       [0., 0., 1., 0.],\n",
              "       [0., 0., 0., 1.],\n",
              "       [1., 0., 0., 0.]], dtype=float32)"
            ]
          },
          "execution_count": 3,
          "metadata": {},
          "output_type": "execute_result"
        }
      ],
      "source": [
        "import numpy as np\n",
        "import tensorflow as tf\n",
        "\n",
        "\n",
        "\n",
        "from tensorflow.keras.preprocessing import sequence\n",
        "from tensorflow.keras.models import Sequential\n",
        "from tensorflow.keras.layers import Dense, Embedding\n",
        "from tensorflow.keras.layers import LSTM\n",
        "\n",
        "# assume we have 4 classes\n",
        "num_classes = 4\n",
        "\n",
        "x = [\n",
        "    [[0],[1],[1],[0],[0],[0]],\n",
        "    [[0],[0],[0],[2],[2],[0]],\n",
        "    [[0],[0],[0],[0],[3],[3]],\n",
        "    [[0],[2],[2],[0],[0],[0]],\n",
        "    [[0],[0],[3],[3],[0],[0]],\n",
        "    [[0],[0],[0],[0],[1],[1]]\n",
        "]\n",
        "\n",
        "\n",
        "# Tensorflow likes float32 and int32\n",
        "x = np.array(x, dtype=np.float32)\n",
        "\n",
        "y = np.array([1,2,3,2,3,0], dtype=np.int32)\n",
        "\n",
        "\n",
        "# Convert y2to dummy variables (one-hot encoding for classification problem)\n",
        "\n",
        "y_2 = tf.keras.utils.to_categorical(y, num_classes)\n",
        "y_2"
      ]
    },
    {
      "cell_type": "markdown",
      "metadata": {
        "id": "ebSBKvSApCBs"
      },
      "source": [
        "### Like CNN,  input_shape is the shape of each sample"
      ]
    },
    {
      "cell_type": "code",
      "execution_count": 4,
      "metadata": {
        "colab": {
          "base_uri": "https://localhost:8080/"
        },
        "id": "_5fmtW9mpCBs",
        "outputId": "3e339972-b7f4-4979-d4dd-8bfe319c8ec7"
      },
      "outputs": [
        {
          "name": "stdout",
          "output_type": "stream",
          "text": [
            "Build model...\n",
            "WARNING:tensorflow:From c:\\Users\\cdub6\\anaconda3\\Lib\\site-packages\\keras\\src\\backend.py:873: The name tf.get_default_graph is deprecated. Please use tf.compat.v1.get_default_graph instead.\n",
            "\n",
            "WARNING:tensorflow:From c:\\Users\\cdub6\\anaconda3\\Lib\\site-packages\\keras\\src\\optimizers\\__init__.py:309: The name tf.train.Optimizer is deprecated. Please use tf.compat.v1.train.Optimizer instead.\n",
            "\n",
            "Train...\n",
            "Epoch 1/100\n",
            "WARNING:tensorflow:From c:\\Users\\cdub6\\anaconda3\\Lib\\site-packages\\keras\\src\\utils\\tf_utils.py:492: The name tf.ragged.RaggedTensorValue is deprecated. Please use tf.compat.v1.ragged.RaggedTensorValue instead.\n",
            "\n",
            "WARNING:tensorflow:From c:\\Users\\cdub6\\anaconda3\\Lib\\site-packages\\keras\\src\\engine\\base_layer_utils.py:384: The name tf.executing_eagerly_outside_functions is deprecated. Please use tf.compat.v1.executing_eagerly_outside_functions instead.\n",
            "\n",
            "1/1 - 2s - loss: 1.3770 - accuracy: 0.5000 - 2s/epoch - 2s/step\n",
            "Epoch 2/100\n",
            "1/1 - 0s - loss: 1.3704 - accuracy: 0.3333 - 5ms/epoch - 5ms/step\n",
            "Epoch 3/100\n",
            "1/1 - 0s - loss: 1.3638 - accuracy: 0.5000 - 6ms/epoch - 6ms/step\n",
            "Epoch 4/100\n",
            "1/1 - 0s - loss: 1.3556 - accuracy: 0.3333 - 6ms/epoch - 6ms/step\n",
            "Epoch 5/100\n",
            "1/1 - 0s - loss: 1.3560 - accuracy: 0.3333 - 5ms/epoch - 5ms/step\n",
            "Epoch 6/100\n",
            "1/1 - 0s - loss: 1.3449 - accuracy: 0.3333 - 6ms/epoch - 6ms/step\n",
            "Epoch 7/100\n",
            "1/1 - 0s - loss: 1.3525 - accuracy: 0.3333 - 6ms/epoch - 6ms/step\n",
            "Epoch 8/100\n",
            "1/1 - 0s - loss: 1.3235 - accuracy: 0.3333 - 5ms/epoch - 5ms/step\n",
            "Epoch 9/100\n",
            "1/1 - 0s - loss: 1.3303 - accuracy: 0.3333 - 4ms/epoch - 4ms/step\n",
            "Epoch 10/100\n",
            "1/1 - 0s - loss: 1.3141 - accuracy: 0.3333 - 5ms/epoch - 5ms/step\n",
            "Epoch 11/100\n",
            "1/1 - 0s - loss: 1.2933 - accuracy: 0.3333 - 4ms/epoch - 4ms/step\n",
            "Epoch 12/100\n",
            "1/1 - 0s - loss: 1.3007 - accuracy: 0.3333 - 4ms/epoch - 4ms/step\n",
            "Epoch 13/100\n",
            "1/1 - 0s - loss: 1.2726 - accuracy: 0.3333 - 5ms/epoch - 5ms/step\n",
            "Epoch 14/100\n",
            "1/1 - 0s - loss: 1.2662 - accuracy: 0.3333 - 5ms/epoch - 5ms/step\n",
            "Epoch 15/100\n",
            "1/1 - 0s - loss: 1.2537 - accuracy: 0.3333 - 5ms/epoch - 5ms/step\n",
            "Epoch 16/100\n",
            "1/1 - 0s - loss: 1.2760 - accuracy: 0.3333 - 5ms/epoch - 5ms/step\n",
            "Epoch 17/100\n",
            "1/1 - 0s - loss: 1.2696 - accuracy: 0.3333 - 4ms/epoch - 4ms/step\n",
            "Epoch 18/100\n",
            "1/1 - 0s - loss: 1.2378 - accuracy: 0.3333 - 5ms/epoch - 5ms/step\n",
            "Epoch 19/100\n",
            "1/1 - 0s - loss: 1.2589 - accuracy: 0.3333 - 4ms/epoch - 4ms/step\n",
            "Epoch 20/100\n",
            "1/1 - 0s - loss: 1.2728 - accuracy: 0.3333 - 5ms/epoch - 5ms/step\n",
            "Epoch 21/100\n",
            "1/1 - 0s - loss: 1.2345 - accuracy: 0.3333 - 5ms/epoch - 5ms/step\n",
            "Epoch 22/100\n",
            "1/1 - 0s - loss: 1.2684 - accuracy: 0.5000 - 4ms/epoch - 4ms/step\n",
            "Epoch 23/100\n",
            "1/1 - 0s - loss: 1.1876 - accuracy: 0.3333 - 4ms/epoch - 4ms/step\n",
            "Epoch 24/100\n",
            "1/1 - 0s - loss: 1.1851 - accuracy: 0.5000 - 6ms/epoch - 6ms/step\n",
            "Epoch 25/100\n",
            "1/1 - 0s - loss: 1.2081 - accuracy: 0.3333 - 4ms/epoch - 4ms/step\n",
            "Epoch 26/100\n",
            "1/1 - 0s - loss: 1.1703 - accuracy: 0.3333 - 5ms/epoch - 5ms/step\n",
            "Epoch 27/100\n",
            "1/1 - 0s - loss: 1.1592 - accuracy: 0.3333 - 4ms/epoch - 4ms/step\n",
            "Epoch 28/100\n",
            "1/1 - 0s - loss: 1.1828 - accuracy: 0.5000 - 11ms/epoch - 11ms/step\n",
            "Epoch 29/100\n",
            "1/1 - 0s - loss: 1.1982 - accuracy: 0.3333 - 6ms/epoch - 6ms/step\n",
            "Epoch 30/100\n",
            "1/1 - 0s - loss: 1.2100 - accuracy: 0.1667 - 7ms/epoch - 7ms/step\n",
            "Epoch 31/100\n",
            "1/1 - 0s - loss: 1.1351 - accuracy: 0.5000 - 5ms/epoch - 5ms/step\n",
            "Epoch 32/100\n",
            "1/1 - 0s - loss: 1.1522 - accuracy: 0.5000 - 9ms/epoch - 9ms/step\n",
            "Epoch 33/100\n",
            "1/1 - 0s - loss: 1.1839 - accuracy: 0.5000 - 5ms/epoch - 5ms/step\n",
            "Epoch 34/100\n",
            "1/1 - 0s - loss: 1.1507 - accuracy: 0.5000 - 5ms/epoch - 5ms/step\n",
            "Epoch 35/100\n",
            "1/1 - 0s - loss: 1.1273 - accuracy: 0.5000 - 4ms/epoch - 4ms/step\n",
            "Epoch 36/100\n",
            "1/1 - 0s - loss: 1.1370 - accuracy: 0.5000 - 6ms/epoch - 6ms/step\n",
            "Epoch 37/100\n",
            "1/1 - 0s - loss: 1.2039 - accuracy: 0.5000 - 4ms/epoch - 4ms/step\n",
            "Epoch 38/100\n",
            "1/1 - 0s - loss: 1.2179 - accuracy: 0.3333 - 5ms/epoch - 5ms/step\n",
            "Epoch 39/100\n",
            "1/1 - 0s - loss: 1.1141 - accuracy: 0.5000 - 6ms/epoch - 6ms/step\n",
            "Epoch 40/100\n",
            "1/1 - 0s - loss: 1.1397 - accuracy: 0.5000 - 6ms/epoch - 6ms/step\n",
            "Epoch 41/100\n",
            "1/1 - 0s - loss: 1.1410 - accuracy: 0.6667 - 5ms/epoch - 5ms/step\n",
            "Epoch 42/100\n",
            "1/1 - 0s - loss: 1.0952 - accuracy: 0.5000 - 6ms/epoch - 6ms/step\n",
            "Epoch 43/100\n",
            "1/1 - 0s - loss: 1.1339 - accuracy: 0.5000 - 4ms/epoch - 4ms/step\n",
            "Epoch 44/100\n",
            "1/1 - 0s - loss: 1.0770 - accuracy: 0.5000 - 6ms/epoch - 6ms/step\n",
            "Epoch 45/100\n",
            "1/1 - 0s - loss: 1.2204 - accuracy: 0.5000 - 5ms/epoch - 5ms/step\n",
            "Epoch 46/100\n",
            "1/1 - 0s - loss: 1.0651 - accuracy: 0.5000 - 5ms/epoch - 5ms/step\n",
            "Epoch 47/100\n",
            "1/1 - 0s - loss: 1.0412 - accuracy: 0.5000 - 5ms/epoch - 5ms/step\n",
            "Epoch 48/100\n",
            "1/1 - 0s - loss: 1.0467 - accuracy: 0.5000 - 5ms/epoch - 5ms/step\n",
            "Epoch 49/100\n",
            "1/1 - 0s - loss: 1.1240 - accuracy: 0.5000 - 5ms/epoch - 5ms/step\n",
            "Epoch 50/100\n",
            "1/1 - 0s - loss: 0.9670 - accuracy: 0.5000 - 4ms/epoch - 4ms/step\n",
            "Epoch 51/100\n",
            "1/1 - 0s - loss: 0.9513 - accuracy: 0.6667 - 5ms/epoch - 5ms/step\n",
            "Epoch 52/100\n",
            "1/1 - 0s - loss: 1.1388 - accuracy: 0.5000 - 4ms/epoch - 4ms/step\n",
            "Epoch 53/100\n",
            "1/1 - 0s - loss: 1.1147 - accuracy: 0.5000 - 6ms/epoch - 6ms/step\n",
            "Epoch 54/100\n",
            "1/1 - 0s - loss: 1.0210 - accuracy: 0.5000 - 5ms/epoch - 5ms/step\n",
            "Epoch 55/100\n",
            "1/1 - 0s - loss: 1.0019 - accuracy: 0.5000 - 5ms/epoch - 5ms/step\n",
            "Epoch 56/100\n",
            "1/1 - 0s - loss: 1.0842 - accuracy: 0.3333 - 5ms/epoch - 5ms/step\n",
            "Epoch 57/100\n",
            "1/1 - 0s - loss: 0.9293 - accuracy: 0.5000 - 4ms/epoch - 4ms/step\n",
            "Epoch 58/100\n",
            "1/1 - 0s - loss: 0.9634 - accuracy: 0.5000 - 5ms/epoch - 5ms/step\n",
            "Epoch 59/100\n",
            "1/1 - 0s - loss: 1.0153 - accuracy: 0.5000 - 5ms/epoch - 5ms/step\n",
            "Epoch 60/100\n",
            "1/1 - 0s - loss: 1.0289 - accuracy: 0.5000 - 5ms/epoch - 5ms/step\n",
            "Epoch 61/100\n",
            "1/1 - 0s - loss: 1.1238 - accuracy: 0.3333 - 5ms/epoch - 5ms/step\n",
            "Epoch 62/100\n",
            "1/1 - 0s - loss: 0.9405 - accuracy: 0.5000 - 5ms/epoch - 5ms/step\n",
            "Epoch 63/100\n",
            "1/1 - 0s - loss: 0.9893 - accuracy: 0.5000 - 4ms/epoch - 4ms/step\n",
            "Epoch 64/100\n",
            "1/1 - 0s - loss: 0.9934 - accuracy: 0.3333 - 6ms/epoch - 6ms/step\n",
            "Epoch 65/100\n",
            "1/1 - 0s - loss: 1.0807 - accuracy: 0.5000 - 5ms/epoch - 5ms/step\n",
            "Epoch 66/100\n",
            "1/1 - 0s - loss: 0.9017 - accuracy: 0.5000 - 5ms/epoch - 5ms/step\n",
            "Epoch 67/100\n",
            "1/1 - 0s - loss: 0.9487 - accuracy: 0.5000 - 4ms/epoch - 4ms/step\n",
            "Epoch 68/100\n",
            "1/1 - 0s - loss: 1.0843 - accuracy: 0.3333 - 4ms/epoch - 4ms/step\n",
            "Epoch 69/100\n",
            "1/1 - 0s - loss: 0.9560 - accuracy: 0.5000 - 14ms/epoch - 14ms/step\n",
            "Epoch 70/100\n",
            "1/1 - 0s - loss: 0.9392 - accuracy: 0.5000 - 7ms/epoch - 7ms/step\n",
            "Epoch 71/100\n",
            "1/1 - 0s - loss: 1.0092 - accuracy: 0.3333 - 7ms/epoch - 7ms/step\n",
            "Epoch 72/100\n",
            "1/1 - 0s - loss: 1.0065 - accuracy: 0.5000 - 4ms/epoch - 4ms/step\n",
            "Epoch 73/100\n",
            "1/1 - 0s - loss: 0.9297 - accuracy: 0.5000 - 7ms/epoch - 7ms/step\n",
            "Epoch 74/100\n",
            "1/1 - 0s - loss: 0.8954 - accuracy: 0.5000 - 5ms/epoch - 5ms/step\n",
            "Epoch 75/100\n",
            "1/1 - 0s - loss: 0.9879 - accuracy: 0.5000 - 4ms/epoch - 4ms/step\n",
            "Epoch 76/100\n",
            "1/1 - 0s - loss: 0.9835 - accuracy: 0.3333 - 5ms/epoch - 5ms/step\n",
            "Epoch 77/100\n",
            "1/1 - 0s - loss: 0.8885 - accuracy: 0.5000 - 5ms/epoch - 5ms/step\n",
            "Epoch 78/100\n",
            "1/1 - 0s - loss: 0.8618 - accuracy: 0.6667 - 5ms/epoch - 5ms/step\n",
            "Epoch 79/100\n",
            "1/1 - 0s - loss: 0.8986 - accuracy: 0.5000 - 4ms/epoch - 4ms/step\n",
            "Epoch 80/100\n",
            "1/1 - 0s - loss: 0.8076 - accuracy: 0.6667 - 5ms/epoch - 5ms/step\n",
            "Epoch 81/100\n",
            "1/1 - 0s - loss: 0.9000 - accuracy: 0.3333 - 4ms/epoch - 4ms/step\n",
            "Epoch 82/100\n",
            "1/1 - 0s - loss: 0.9154 - accuracy: 0.5000 - 5ms/epoch - 5ms/step\n",
            "Epoch 83/100\n",
            "1/1 - 0s - loss: 0.9926 - accuracy: 0.3333 - 4ms/epoch - 4ms/step\n",
            "Epoch 84/100\n",
            "1/1 - 0s - loss: 1.1684 - accuracy: 0.3333 - 5ms/epoch - 5ms/step\n",
            "Epoch 85/100\n",
            "1/1 - 0s - loss: 0.7955 - accuracy: 0.5000 - 5ms/epoch - 5ms/step\n",
            "Epoch 86/100\n",
            "1/1 - 0s - loss: 0.9510 - accuracy: 0.5000 - 5ms/epoch - 5ms/step\n",
            "Epoch 87/100\n",
            "1/1 - 0s - loss: 1.1335 - accuracy: 0.3333 - 5ms/epoch - 5ms/step\n",
            "Epoch 88/100\n",
            "1/1 - 0s - loss: 0.8371 - accuracy: 0.5000 - 7ms/epoch - 7ms/step\n",
            "Epoch 89/100\n",
            "1/1 - 0s - loss: 0.8171 - accuracy: 0.5000 - 5ms/epoch - 5ms/step\n",
            "Epoch 90/100\n",
            "1/1 - 0s - loss: 0.7745 - accuracy: 0.5000 - 4ms/epoch - 4ms/step\n",
            "Epoch 91/100\n",
            "1/1 - 0s - loss: 0.9037 - accuracy: 0.5000 - 5ms/epoch - 5ms/step\n",
            "Epoch 92/100\n",
            "1/1 - 0s - loss: 1.0500 - accuracy: 0.3333 - 5ms/epoch - 5ms/step\n",
            "Epoch 93/100\n",
            "1/1 - 0s - loss: 0.7404 - accuracy: 0.5000 - 4ms/epoch - 4ms/step\n",
            "Epoch 94/100\n",
            "1/1 - 0s - loss: 0.9443 - accuracy: 0.3333 - 4ms/epoch - 4ms/step\n",
            "Epoch 95/100\n",
            "1/1 - 0s - loss: 1.0655 - accuracy: 0.3333 - 4ms/epoch - 4ms/step\n",
            "Epoch 96/100\n",
            "1/1 - 0s - loss: 0.6987 - accuracy: 0.5000 - 5ms/epoch - 5ms/step\n",
            "Epoch 97/100\n",
            "1/1 - 0s - loss: 0.8188 - accuracy: 0.5000 - 5ms/epoch - 5ms/step\n",
            "Epoch 98/100\n",
            "1/1 - 0s - loss: 0.8545 - accuracy: 0.5000 - 5ms/epoch - 5ms/step\n",
            "Epoch 99/100\n",
            "1/1 - 0s - loss: 0.8354 - accuracy: 0.6667 - 5ms/epoch - 5ms/step\n",
            "Epoch 100/100\n",
            "1/1 - 0s - loss: 0.7208 - accuracy: 0.6667 - 5ms/epoch - 5ms/step\n",
            "1/1 [==============================] - 0s 192ms/step\n",
            "Predicted classes: [2 3 3 2 3 0]\n",
            "Expected classes: [1 2 3 2 3 0]\n"
          ]
        }
      ],
      "source": [
        "# If numpy 1.20 gives you error, you may want to downgrade using pip install numpy==1.19.2\n",
        "\n",
        "print('Build model...')\n",
        "model = Sequential()\n",
        "\n",
        "# each sequence has 6 members and each member is 1-dimentinal\n",
        "\n",
        "#Like CNN,  input_shape is the shape of each sample\n",
        "\n",
        "model.add(LSTM(128, activation='relu', dropout=0.2, recurrent_dropout=0.2, input_shape=(6, 1)))\n",
        "model.add(Dense(4, activation='softmax'))\n",
        "\n",
        "# try using different optimizers and different optimizer configs\n",
        "model.compile(loss='categorical_crossentropy',\n",
        "              optimizer='adam',\n",
        "              metrics=['accuracy'])\n",
        "\n",
        "\n",
        "print('Train...')\n",
        "model.fit(x, y_2,verbose=2, epochs=100)\n",
        "pred = model.predict(x)\n",
        "\n",
        "predict_classes = np.argmax(pred,axis=1)\n",
        "print(\"Predicted classes:\",predict_classes)\n",
        "print(\"Expected classes:\",y)"
      ]
    },
    {
      "cell_type": "markdown",
      "metadata": {
        "id": "C2nLPra_pCBt"
      },
      "source": [
        "### Let's predict any ad hoc sequence using trained model\n",
        "\n",
        "For example  [[0],[0],[0],[0],[0],[1]]"
      ]
    },
    {
      "cell_type": "code",
      "execution_count": 5,
      "metadata": {
        "colab": {
          "base_uri": "https://localhost:8080/"
        },
        "id": "QUq8o3OQpCBt",
        "outputId": "ce2d8281-0586-47fb-8d20-fb3a3ceb1954"
      },
      "outputs": [
        {
          "data": {
            "text/plain": [
              "(6, 1)"
            ]
          },
          "execution_count": 5,
          "metadata": {},
          "output_type": "execute_result"
        }
      ],
      "source": [
        "x = np.array([[0],[0],[0],[0],[0],[1]])\n",
        "\n",
        "x.shape"
      ]
    },
    {
      "cell_type": "code",
      "execution_count": 6,
      "metadata": {
        "colab": {
          "base_uri": "https://localhost:8080/",
          "height": 894
        },
        "id": "E9tWnlWmpCBt",
        "outputId": "3c94403d-64b9-4c62-995a-e974d8355b6d"
      },
      "outputs": [
        {
          "ename": "TypeError",
          "evalue": "in user code:\n\n    File \"c:\\Users\\cdub6\\anaconda3\\Lib\\site-packages\\keras\\src\\engine\\training.py\", line 2440, in predict_function  *\n        return step_function(self, iterator)\n    File \"c:\\Users\\cdub6\\anaconda3\\Lib\\site-packages\\keras\\src\\engine\\training.py\", line 2425, in step_function  **\n        outputs = model.distribute_strategy.run(run_step, args=(data,))\n    File \"c:\\Users\\cdub6\\anaconda3\\Lib\\site-packages\\keras\\src\\engine\\training.py\", line 2413, in run_step  **\n        outputs = model.predict_step(data)\n    File \"c:\\Users\\cdub6\\anaconda3\\Lib\\site-packages\\keras\\src\\engine\\training.py\", line 2381, in predict_step\n        return self(x, training=False)\n    File \"c:\\Users\\cdub6\\anaconda3\\Lib\\site-packages\\keras\\src\\utils\\traceback_utils.py\", line 70, in error_handler\n        raise e.with_traceback(filtered_tb) from None\n    File \"c:\\Users\\cdub6\\anaconda3\\Lib\\site-packages\\keras\\src\\layers\\rnn\\lstm.py\", line 616, in call\n        timesteps = input_shape[0] if self.time_major else input_shape[1]\n\n    TypeError: Exception encountered when calling layer 'lstm' (type LSTM).\n    \n    'NoneType' object is not subscriptable\n    \n    Call arguments received by layer 'lstm' (type LSTM):\n      • inputs=tf.Tensor(shape=<unknown>, dtype=float32)\n      • mask=None\n      • training=False\n      • initial_state=None\n",
          "output_type": "error",
          "traceback": [
            "\u001b[1;31m---------------------------------------------------------------------------\u001b[0m",
            "\u001b[1;31mTypeError\u001b[0m                                 Traceback (most recent call last)",
            "Cell \u001b[1;32mIn[6], line 3\u001b[0m\n\u001b[0;32m      1\u001b[0m x \u001b[38;5;241m=\u001b[39m np\u001b[38;5;241m.\u001b[39marray(x, dtype\u001b[38;5;241m=\u001b[39mnp\u001b[38;5;241m.\u001b[39mfloat32)\n\u001b[1;32m----> 3\u001b[0m pred \u001b[38;5;241m=\u001b[39m \u001b[43mmodel\u001b[49m\u001b[38;5;241;43m.\u001b[39;49m\u001b[43mpredict\u001b[49m\u001b[43m(\u001b[49m\u001b[43mx\u001b[49m\u001b[43m)\u001b[49m\n\u001b[0;32m      5\u001b[0m \u001b[38;5;28mprint\u001b[39m(x)\n\u001b[0;32m      7\u001b[0m \u001b[38;5;28mprint\u001b[39m(\u001b[38;5;124m\"\u001b[39m\u001b[38;5;124mPrediction:\u001b[39m\u001b[38;5;124m\"\u001b[39m, np\u001b[38;5;241m.\u001b[39margmax(pred[\u001b[38;5;241m0\u001b[39m]))\n",
            "File \u001b[1;32mc:\\Users\\cdub6\\anaconda3\\Lib\\site-packages\\keras\\src\\utils\\traceback_utils.py:70\u001b[0m, in \u001b[0;36mfilter_traceback.<locals>.error_handler\u001b[1;34m(*args, **kwargs)\u001b[0m\n\u001b[0;32m     67\u001b[0m     filtered_tb \u001b[38;5;241m=\u001b[39m _process_traceback_frames(e\u001b[38;5;241m.\u001b[39m__traceback__)\n\u001b[0;32m     68\u001b[0m     \u001b[38;5;66;03m# To get the full stack trace, call:\u001b[39;00m\n\u001b[0;32m     69\u001b[0m     \u001b[38;5;66;03m# `tf.debugging.disable_traceback_filtering()`\u001b[39;00m\n\u001b[1;32m---> 70\u001b[0m     \u001b[38;5;28;01mraise\u001b[39;00m e\u001b[38;5;241m.\u001b[39mwith_traceback(filtered_tb) \u001b[38;5;28;01mfrom\u001b[39;00m \u001b[38;5;28;01mNone\u001b[39;00m\n\u001b[0;32m     71\u001b[0m \u001b[38;5;28;01mfinally\u001b[39;00m:\n\u001b[0;32m     72\u001b[0m     \u001b[38;5;28;01mdel\u001b[39;00m filtered_tb\n",
            "File \u001b[1;32m~\\AppData\\Local\\Temp\\__autograph_generated_filekegfm2bc.py:15\u001b[0m, in \u001b[0;36mouter_factory.<locals>.inner_factory.<locals>.tf__predict_function\u001b[1;34m(iterator)\u001b[0m\n\u001b[0;32m     13\u001b[0m \u001b[38;5;28;01mtry\u001b[39;00m:\n\u001b[0;32m     14\u001b[0m     do_return \u001b[38;5;241m=\u001b[39m \u001b[38;5;28;01mTrue\u001b[39;00m\n\u001b[1;32m---> 15\u001b[0m     retval_ \u001b[38;5;241m=\u001b[39m ag__\u001b[38;5;241m.\u001b[39mconverted_call(ag__\u001b[38;5;241m.\u001b[39mld(step_function), (ag__\u001b[38;5;241m.\u001b[39mld(\u001b[38;5;28mself\u001b[39m), ag__\u001b[38;5;241m.\u001b[39mld(iterator)), \u001b[38;5;28;01mNone\u001b[39;00m, fscope)\n\u001b[0;32m     16\u001b[0m \u001b[38;5;28;01mexcept\u001b[39;00m:\n\u001b[0;32m     17\u001b[0m     do_return \u001b[38;5;241m=\u001b[39m \u001b[38;5;28;01mFalse\u001b[39;00m\n",
            "\u001b[1;31mTypeError\u001b[0m: in user code:\n\n    File \"c:\\Users\\cdub6\\anaconda3\\Lib\\site-packages\\keras\\src\\engine\\training.py\", line 2440, in predict_function  *\n        return step_function(self, iterator)\n    File \"c:\\Users\\cdub6\\anaconda3\\Lib\\site-packages\\keras\\src\\engine\\training.py\", line 2425, in step_function  **\n        outputs = model.distribute_strategy.run(run_step, args=(data,))\n    File \"c:\\Users\\cdub6\\anaconda3\\Lib\\site-packages\\keras\\src\\engine\\training.py\", line 2413, in run_step  **\n        outputs = model.predict_step(data)\n    File \"c:\\Users\\cdub6\\anaconda3\\Lib\\site-packages\\keras\\src\\engine\\training.py\", line 2381, in predict_step\n        return self(x, training=False)\n    File \"c:\\Users\\cdub6\\anaconda3\\Lib\\site-packages\\keras\\src\\utils\\traceback_utils.py\", line 70, in error_handler\n        raise e.with_traceback(filtered_tb) from None\n    File \"c:\\Users\\cdub6\\anaconda3\\Lib\\site-packages\\keras\\src\\layers\\rnn\\lstm.py\", line 616, in call\n        timesteps = input_shape[0] if self.time_major else input_shape[1]\n\n    TypeError: Exception encountered when calling layer 'lstm' (type LSTM).\n    \n    'NoneType' object is not subscriptable\n    \n    Call arguments received by layer 'lstm' (type LSTM):\n      • inputs=tf.Tensor(shape=<unknown>, dtype=float32)\n      • mask=None\n      • training=False\n      • initial_state=None\n"
          ]
        }
      ],
      "source": [
        "x = np.array(x, dtype=np.float32)\n",
        "\n",
        "pred = model.predict(x)\n",
        "\n",
        "print(x)\n",
        "\n",
        "print(\"Prediction:\", np.argmax(pred[0]))"
      ]
    },
    {
      "cell_type": "markdown",
      "metadata": {
        "id": "b99ccjoLpCBu"
      },
      "source": [
        "### Why?  \n",
        "\n",
        "### Remeber x must be a 3D array!!"
      ]
    },
    {
      "cell_type": "code",
      "execution_count": 7,
      "metadata": {
        "colab": {
          "base_uri": "https://localhost:8080/"
        },
        "id": "L_sKK1UrpCBu",
        "outputId": "0cd1d199-952e-4f57-ab1a-ac0fee4d19b5"
      },
      "outputs": [
        {
          "name": "stdout",
          "output_type": "stream",
          "text": [
            "1/1 [==============================] - 0s 17ms/step\n",
            "(1, 6, 1)\n",
            "Prediction: 0\n"
          ]
        }
      ],
      "source": [
        "x = np.array([[[0],[0],[0],[0],[0],[1]]])\n",
        "\n",
        "x = np.array(x, dtype=np.float32)\n",
        "\n",
        "pred = model.predict(x)\n",
        "\n",
        "print(x.shape)\n",
        "\n",
        "print(\"Prediction:\", np.argmax(pred[0]))"
      ]
    },
    {
      "cell_type": "markdown",
      "metadata": {
        "id": "fsMgnfXipCBv"
      },
      "source": [
        "# LSTM Example for Regression\n",
        "\n",
        "An example of RNN regression to predict sunspots.  The data files needed for this example can be found at the following location.\n",
        "\n",
        "* [Sunspot Data Files](http://www.sidc.be/silso/datafiles#total)\n",
        "\n",
        "http://www.sidc.be/silso/infosndtot\n",
        "\n",
        "The following code is used to load the sunspot file:"
      ]
    },
    {
      "cell_type": "code",
      "execution_count": 8,
      "metadata": {
        "colab": {
          "base_uri": "https://localhost:8080/",
          "height": 417
        },
        "id": "tRcQ0ubWpCBv",
        "outputId": "abb9e054-8dba-4dfb-b1d3-b73081ad48e3"
      },
      "outputs": [
        {
          "name": "stderr",
          "output_type": "stream",
          "text": [
            "C:\\Users\\cdub6\\AppData\\Local\\Temp\\ipykernel_22232\\1083835947.py:8: ParserWarning: Length of header or names does not match length of data. This leads to a loss of data with index_col=False.\n",
            "  df = pd.read_csv(filename, sep=';', header=None, names=names, index_col=False)\n"
          ]
        },
        {
          "data": {
            "text/html": [
              "<div>\n",
              "<style scoped>\n",
              "    .dataframe tbody tr th:only-of-type {\n",
              "        vertical-align: middle;\n",
              "    }\n",
              "\n",
              "    .dataframe tbody tr th {\n",
              "        vertical-align: top;\n",
              "    }\n",
              "\n",
              "    .dataframe thead th {\n",
              "        text-align: right;\n",
              "    }\n",
              "</style>\n",
              "<table border=\"1\" class=\"dataframe\">\n",
              "  <thead>\n",
              "    <tr style=\"text-align: right;\">\n",
              "      <th></th>\n",
              "      <th>year</th>\n",
              "      <th>month</th>\n",
              "      <th>day</th>\n",
              "      <th>dec_year</th>\n",
              "      <th>sn_value</th>\n",
              "      <th>sn_error</th>\n",
              "      <th>obs_num</th>\n",
              "    </tr>\n",
              "  </thead>\n",
              "  <tbody>\n",
              "    <tr>\n",
              "      <th>0</th>\n",
              "      <td>1818</td>\n",
              "      <td>1</td>\n",
              "      <td>1</td>\n",
              "      <td>1818.001</td>\n",
              "      <td>-1</td>\n",
              "      <td>-1.0</td>\n",
              "      <td>0</td>\n",
              "    </tr>\n",
              "    <tr>\n",
              "      <th>1</th>\n",
              "      <td>1818</td>\n",
              "      <td>1</td>\n",
              "      <td>2</td>\n",
              "      <td>1818.004</td>\n",
              "      <td>-1</td>\n",
              "      <td>-1.0</td>\n",
              "      <td>0</td>\n",
              "    </tr>\n",
              "    <tr>\n",
              "      <th>2</th>\n",
              "      <td>1818</td>\n",
              "      <td>1</td>\n",
              "      <td>3</td>\n",
              "      <td>1818.007</td>\n",
              "      <td>-1</td>\n",
              "      <td>-1.0</td>\n",
              "      <td>0</td>\n",
              "    </tr>\n",
              "    <tr>\n",
              "      <th>3</th>\n",
              "      <td>1818</td>\n",
              "      <td>1</td>\n",
              "      <td>4</td>\n",
              "      <td>1818.010</td>\n",
              "      <td>-1</td>\n",
              "      <td>-1.0</td>\n",
              "      <td>0</td>\n",
              "    </tr>\n",
              "    <tr>\n",
              "      <th>4</th>\n",
              "      <td>1818</td>\n",
              "      <td>1</td>\n",
              "      <td>5</td>\n",
              "      <td>1818.012</td>\n",
              "      <td>-1</td>\n",
              "      <td>-1.0</td>\n",
              "      <td>0</td>\n",
              "    </tr>\n",
              "    <tr>\n",
              "      <th>5</th>\n",
              "      <td>1818</td>\n",
              "      <td>1</td>\n",
              "      <td>6</td>\n",
              "      <td>1818.015</td>\n",
              "      <td>-1</td>\n",
              "      <td>-1.0</td>\n",
              "      <td>0</td>\n",
              "    </tr>\n",
              "    <tr>\n",
              "      <th>6</th>\n",
              "      <td>1818</td>\n",
              "      <td>1</td>\n",
              "      <td>7</td>\n",
              "      <td>1818.018</td>\n",
              "      <td>-1</td>\n",
              "      <td>-1.0</td>\n",
              "      <td>0</td>\n",
              "    </tr>\n",
              "    <tr>\n",
              "      <th>7</th>\n",
              "      <td>1818</td>\n",
              "      <td>1</td>\n",
              "      <td>8</td>\n",
              "      <td>1818.021</td>\n",
              "      <td>65</td>\n",
              "      <td>10.2</td>\n",
              "      <td>1</td>\n",
              "    </tr>\n",
              "    <tr>\n",
              "      <th>8</th>\n",
              "      <td>1818</td>\n",
              "      <td>1</td>\n",
              "      <td>9</td>\n",
              "      <td>1818.023</td>\n",
              "      <td>-1</td>\n",
              "      <td>-1.0</td>\n",
              "      <td>0</td>\n",
              "    </tr>\n",
              "    <tr>\n",
              "      <th>9</th>\n",
              "      <td>1818</td>\n",
              "      <td>1</td>\n",
              "      <td>10</td>\n",
              "      <td>1818.026</td>\n",
              "      <td>-1</td>\n",
              "      <td>-1.0</td>\n",
              "      <td>0</td>\n",
              "    </tr>\n",
              "  </tbody>\n",
              "</table>\n",
              "</div>"
            ],
            "text/plain": [
              "   year  month  day  dec_year  sn_value  sn_error  obs_num\n",
              "0  1818      1    1  1818.001        -1      -1.0        0\n",
              "1  1818      1    2  1818.004        -1      -1.0        0\n",
              "2  1818      1    3  1818.007        -1      -1.0        0\n",
              "3  1818      1    4  1818.010        -1      -1.0        0\n",
              "4  1818      1    5  1818.012        -1      -1.0        0\n",
              "5  1818      1    6  1818.015        -1      -1.0        0\n",
              "6  1818      1    7  1818.018        -1      -1.0        0\n",
              "7  1818      1    8  1818.021        65      10.2        1\n",
              "8  1818      1    9  1818.023        -1      -1.0        0\n",
              "9  1818      1   10  1818.026        -1      -1.0        0"
            ]
          },
          "execution_count": 8,
          "metadata": {},
          "output_type": "execute_result"
        }
      ],
      "source": [
        "import pandas as pd\n",
        "import os\n",
        "\n",
        "#path = \"./data/\"\n",
        "\n",
        "filename = \"./data/SN_d_tot_V2.0.csv\"\n",
        "names = ['year', 'month', 'day', 'dec_year', 'sn_value' , 'sn_error', 'obs_num']\n",
        "df = pd.read_csv(filename, sep=';', header=None, names=names, index_col=False)\n",
        "\n",
        "# index_col=False forces pandas not to use the first column as the index\n",
        "\n",
        "df[0:10]\n",
        "\n",
        "# -1 means NA"
      ]
    },
    {
      "cell_type": "code",
      "execution_count": 9,
      "metadata": {
        "id": "7ydLLQfNpCBv"
      },
      "outputs": [],
      "source": [
        "# The missing values are marked by -1\n",
        "\n",
        "df = df[(df['sn_value'] != -1) & (df['obs_num'] != 0)]"
      ]
    },
    {
      "cell_type": "code",
      "execution_count": 10,
      "metadata": {
        "colab": {
          "base_uri": "https://localhost:8080/"
        },
        "id": "-vaHzE5wpCBw",
        "outputId": "67997194-7204-4c96-8c31-956d2e98725e"
      },
      "outputs": [
        {
          "data": {
            "text/plain": [
              "(72084, 7)"
            ]
          },
          "execution_count": 10,
          "metadata": {},
          "output_type": "execute_result"
        }
      ],
      "source": [
        "df.shape"
      ]
    },
    {
      "cell_type": "code",
      "execution_count": 11,
      "metadata": {
        "colab": {
          "base_uri": "https://localhost:8080/",
          "height": 519
        },
        "id": "UFKmtgJepCBx",
        "outputId": "4268c7cc-e962-462e-d758-4918edabe5cb"
      },
      "outputs": [
        {
          "data": {
            "text/html": [
              "<div>\n",
              "<style scoped>\n",
              "    .dataframe tbody tr th:only-of-type {\n",
              "        vertical-align: middle;\n",
              "    }\n",
              "\n",
              "    .dataframe tbody tr th {\n",
              "        vertical-align: top;\n",
              "    }\n",
              "\n",
              "    .dataframe thead th {\n",
              "        text-align: right;\n",
              "    }\n",
              "</style>\n",
              "<table border=\"1\" class=\"dataframe\">\n",
              "  <thead>\n",
              "    <tr style=\"text-align: right;\">\n",
              "      <th></th>\n",
              "      <th>year</th>\n",
              "      <th>month</th>\n",
              "      <th>day</th>\n",
              "      <th>dec_year</th>\n",
              "      <th>sn_value</th>\n",
              "      <th>sn_error</th>\n",
              "      <th>obs_num</th>\n",
              "    </tr>\n",
              "  </thead>\n",
              "  <tbody>\n",
              "    <tr>\n",
              "      <th>7</th>\n",
              "      <td>1818</td>\n",
              "      <td>1</td>\n",
              "      <td>8</td>\n",
              "      <td>1818.021</td>\n",
              "      <td>65</td>\n",
              "      <td>10.2</td>\n",
              "      <td>1</td>\n",
              "    </tr>\n",
              "    <tr>\n",
              "      <th>12</th>\n",
              "      <td>1818</td>\n",
              "      <td>1</td>\n",
              "      <td>13</td>\n",
              "      <td>1818.034</td>\n",
              "      <td>37</td>\n",
              "      <td>7.7</td>\n",
              "      <td>1</td>\n",
              "    </tr>\n",
              "    <tr>\n",
              "      <th>16</th>\n",
              "      <td>1818</td>\n",
              "      <td>1</td>\n",
              "      <td>17</td>\n",
              "      <td>1818.045</td>\n",
              "      <td>77</td>\n",
              "      <td>11.1</td>\n",
              "      <td>1</td>\n",
              "    </tr>\n",
              "    <tr>\n",
              "      <th>17</th>\n",
              "      <td>1818</td>\n",
              "      <td>1</td>\n",
              "      <td>18</td>\n",
              "      <td>1818.048</td>\n",
              "      <td>98</td>\n",
              "      <td>12.6</td>\n",
              "      <td>1</td>\n",
              "    </tr>\n",
              "    <tr>\n",
              "      <th>18</th>\n",
              "      <td>1818</td>\n",
              "      <td>1</td>\n",
              "      <td>19</td>\n",
              "      <td>1818.051</td>\n",
              "      <td>105</td>\n",
              "      <td>13.0</td>\n",
              "      <td>1</td>\n",
              "    </tr>\n",
              "    <tr>\n",
              "      <th>24</th>\n",
              "      <td>1818</td>\n",
              "      <td>1</td>\n",
              "      <td>25</td>\n",
              "      <td>1818.067</td>\n",
              "      <td>25</td>\n",
              "      <td>6.3</td>\n",
              "      <td>1</td>\n",
              "    </tr>\n",
              "    <tr>\n",
              "      <th>27</th>\n",
              "      <td>1818</td>\n",
              "      <td>1</td>\n",
              "      <td>28</td>\n",
              "      <td>1818.075</td>\n",
              "      <td>38</td>\n",
              "      <td>7.8</td>\n",
              "      <td>1</td>\n",
              "    </tr>\n",
              "    <tr>\n",
              "      <th>28</th>\n",
              "      <td>1818</td>\n",
              "      <td>1</td>\n",
              "      <td>29</td>\n",
              "      <td>1818.078</td>\n",
              "      <td>20</td>\n",
              "      <td>5.7</td>\n",
              "      <td>1</td>\n",
              "    </tr>\n",
              "    <tr>\n",
              "      <th>33</th>\n",
              "      <td>1818</td>\n",
              "      <td>2</td>\n",
              "      <td>3</td>\n",
              "      <td>1818.092</td>\n",
              "      <td>17</td>\n",
              "      <td>5.2</td>\n",
              "      <td>1</td>\n",
              "    </tr>\n",
              "    <tr>\n",
              "      <th>35</th>\n",
              "      <td>1818</td>\n",
              "      <td>2</td>\n",
              "      <td>5</td>\n",
              "      <td>1818.097</td>\n",
              "      <td>20</td>\n",
              "      <td>5.7</td>\n",
              "      <td>1</td>\n",
              "    </tr>\n",
              "    <tr>\n",
              "      <th>36</th>\n",
              "      <td>1818</td>\n",
              "      <td>2</td>\n",
              "      <td>6</td>\n",
              "      <td>1818.100</td>\n",
              "      <td>25</td>\n",
              "      <td>6.3</td>\n",
              "      <td>1</td>\n",
              "    </tr>\n",
              "    <tr>\n",
              "      <th>39</th>\n",
              "      <td>1818</td>\n",
              "      <td>2</td>\n",
              "      <td>9</td>\n",
              "      <td>1818.108</td>\n",
              "      <td>87</td>\n",
              "      <td>11.8</td>\n",
              "      <td>1</td>\n",
              "    </tr>\n",
              "    <tr>\n",
              "      <th>43</th>\n",
              "      <td>1818</td>\n",
              "      <td>2</td>\n",
              "      <td>13</td>\n",
              "      <td>1818.119</td>\n",
              "      <td>192</td>\n",
              "      <td>17.5</td>\n",
              "      <td>1</td>\n",
              "    </tr>\n",
              "    <tr>\n",
              "      <th>44</th>\n",
              "      <td>1818</td>\n",
              "      <td>2</td>\n",
              "      <td>14</td>\n",
              "      <td>1818.122</td>\n",
              "      <td>73</td>\n",
              "      <td>10.8</td>\n",
              "      <td>1</td>\n",
              "    </tr>\n",
              "    <tr>\n",
              "      <th>45</th>\n",
              "      <td>1818</td>\n",
              "      <td>2</td>\n",
              "      <td>15</td>\n",
              "      <td>1818.125</td>\n",
              "      <td>82</td>\n",
              "      <td>11.4</td>\n",
              "      <td>1</td>\n",
              "    </tr>\n",
              "  </tbody>\n",
              "</table>\n",
              "</div>"
            ],
            "text/plain": [
              "    year  month  day  dec_year  sn_value  sn_error  obs_num\n",
              "7   1818      1    8  1818.021        65      10.2        1\n",
              "12  1818      1   13  1818.034        37       7.7        1\n",
              "16  1818      1   17  1818.045        77      11.1        1\n",
              "17  1818      1   18  1818.048        98      12.6        1\n",
              "18  1818      1   19  1818.051       105      13.0        1\n",
              "24  1818      1   25  1818.067        25       6.3        1\n",
              "27  1818      1   28  1818.075        38       7.8        1\n",
              "28  1818      1   29  1818.078        20       5.7        1\n",
              "33  1818      2    3  1818.092        17       5.2        1\n",
              "35  1818      2    5  1818.097        20       5.7        1\n",
              "36  1818      2    6  1818.100        25       6.3        1\n",
              "39  1818      2    9  1818.108        87      11.8        1\n",
              "43  1818      2   13  1818.119       192      17.5        1\n",
              "44  1818      2   14  1818.122        73      10.8        1\n",
              "45  1818      2   15  1818.125        82      11.4        1"
            ]
          },
          "execution_count": 11,
          "metadata": {},
          "output_type": "execute_result"
        }
      ],
      "source": [
        "df[0:15]"
      ]
    },
    {
      "cell_type": "markdown",
      "metadata": {
        "id": "vlA1_XIFpCBy"
      },
      "source": [
        "### Now, we want to predict a SN value based on the $N$ preceding values.  "
      ]
    },
    {
      "cell_type": "code",
      "execution_count": 12,
      "metadata": {
        "colab": {
          "base_uri": "https://localhost:8080/"
        },
        "id": "zG7BbKP1pCBy",
        "outputId": "b255ec39-7e36-4615-8804-24e7b395a9cd"
      },
      "outputs": [
        {
          "name": "stdout",
          "output_type": "stream",
          "text": [
            "Training set has 63227 records.\n",
            "Test set has 8857 records.\n"
          ]
        }
      ],
      "source": [
        "df_train = df[df['year']<2000]\n",
        "df_test = df[df['year']>=2000]\n",
        "\n",
        "spots_train = df_train['sn_value'].tolist()\n",
        "spots_test = df_test['sn_value'].tolist()\n",
        "\n",
        "print(\"Training set has {} records.\".format(len(spots_train)))\n",
        "print(\"Test set has {} records.\".format(len(spots_test)))"
      ]
    },
    {
      "cell_type": "markdown",
      "metadata": {
        "id": "HmexYzvcpCBy"
      },
      "source": [
        "### Sequence data to create x and y in the format RNN likes."
      ]
    },
    {
      "cell_type": "code",
      "execution_count": 13,
      "metadata": {
        "id": "ilxugpeBpCBz"
      },
      "outputs": [],
      "source": [
        "import numpy as np\n",
        "\n",
        "def to_sequences(seq_size, data):\n",
        "    x = []\n",
        "    y = []\n",
        "\n",
        "    for i in range(len(data)-SEQUENCE_SIZE-1):\n",
        "        #print(i)\n",
        "        window = data[i:(i+SEQUENCE_SIZE)]\n",
        "        after_window = data[i+SEQUENCE_SIZE]\n",
        "        window = [[x] for x in window]\n",
        "        #print(\"{} - {}\".format(window,after_window))\n",
        "        x.append(window)\n",
        "        y.append(after_window)\n",
        "\n",
        "    return np.array(x),np.array(y)"
      ]
    },
    {
      "cell_type": "code",
      "execution_count": 14,
      "metadata": {
        "colab": {
          "base_uri": "https://localhost:8080/"
        },
        "id": "0hGnAtcBpCBz",
        "outputId": "32c693c6-b665-4fc3-cb74-b9f8c7eb4803"
      },
      "outputs": [
        {
          "name": "stdout",
          "output_type": "stream",
          "text": [
            "Shape of x_train: (63216, 10, 1)\n",
            "Shape of x_test: (8846, 10, 1)\n",
            "Shape of y_train: (63216,)\n",
            "Shape of y_test: (8846,)\n"
          ]
        }
      ],
      "source": [
        "SEQUENCE_SIZE = 10\n",
        "x_train,y_train = to_sequences(SEQUENCE_SIZE,spots_train)\n",
        "x_test,y_test = to_sequences(SEQUENCE_SIZE,spots_test)\n",
        "\n",
        "print(\"Shape of x_train: {}\".format(x_train.shape))\n",
        "print(\"Shape of x_test: {}\".format(x_test.shape))\n",
        "print(\"Shape of y_train: {}\".format(y_train.shape))\n",
        "print(\"Shape of y_test: {}\".format(y_test.shape))"
      ]
    },
    {
      "cell_type": "code",
      "execution_count": 15,
      "metadata": {
        "colab": {
          "base_uri": "https://localhost:8080/"
        },
        "id": "3Cw_vi2epCB0",
        "outputId": "d047b4b5-280b-4262-eff0-123a124efff0"
      },
      "outputs": [
        {
          "data": {
            "text/plain": [
              "array([[[ 65],\n",
              "        [ 37],\n",
              "        [ 77],\n",
              "        [ 98],\n",
              "        [105],\n",
              "        [ 25],\n",
              "        [ 38],\n",
              "        [ 20],\n",
              "        [ 17],\n",
              "        [ 20]],\n",
              "\n",
              "       [[ 37],\n",
              "        [ 77],\n",
              "        [ 98],\n",
              "        [105],\n",
              "        [ 25],\n",
              "        [ 38],\n",
              "        [ 20],\n",
              "        [ 17],\n",
              "        [ 20],\n",
              "        [ 25]],\n",
              "\n",
              "       [[ 77],\n",
              "        [ 98],\n",
              "        [105],\n",
              "        [ 25],\n",
              "        [ 38],\n",
              "        [ 20],\n",
              "        [ 17],\n",
              "        [ 20],\n",
              "        [ 25],\n",
              "        [ 87]],\n",
              "\n",
              "       [[ 98],\n",
              "        [105],\n",
              "        [ 25],\n",
              "        [ 38],\n",
              "        [ 20],\n",
              "        [ 17],\n",
              "        [ 20],\n",
              "        [ 25],\n",
              "        [ 87],\n",
              "        [192]],\n",
              "\n",
              "       [[105],\n",
              "        [ 25],\n",
              "        [ 38],\n",
              "        [ 20],\n",
              "        [ 17],\n",
              "        [ 20],\n",
              "        [ 25],\n",
              "        [ 87],\n",
              "        [192],\n",
              "        [ 73]]])"
            ]
          },
          "execution_count": 15,
          "metadata": {},
          "output_type": "execute_result"
        }
      ],
      "source": [
        "x_train[0:5]"
      ]
    },
    {
      "cell_type": "code",
      "execution_count": 16,
      "metadata": {
        "colab": {
          "base_uri": "https://localhost:8080/"
        },
        "id": "hEPcWdrVpCB0",
        "outputId": "682c17ac-c658-428f-88d2-1752e786e970"
      },
      "outputs": [
        {
          "data": {
            "text/plain": [
              "array([ 25,  87, 192,  73,  82])"
            ]
          },
          "execution_count": 16,
          "metadata": {},
          "output_type": "execute_result"
        }
      ],
      "source": [
        "y_train[0:5]"
      ]
    },
    {
      "cell_type": "markdown",
      "metadata": {
        "id": "Swe30xjFpCB0"
      },
      "source": [
        "### Ready to train a RNN model"
      ]
    },
    {
      "cell_type": "code",
      "execution_count": 17,
      "metadata": {
        "colab": {
          "base_uri": "https://localhost:8080/"
        },
        "id": "MbrVxTZ2pCB1",
        "outputId": "45fbd6e1-2592-42a7-ca77-0b48036cd76a"
      },
      "outputs": [
        {
          "name": "stdout",
          "output_type": "stream",
          "text": [
            "Build model...\n",
            "Train...\n",
            "Epoch 1/3\n",
            "1976/1976 - 8s - loss: 1402.8291 - val_loss: 301.4691 - 8s/epoch - 4ms/step\n",
            "Epoch 2/3\n",
            "1976/1976 - 6s - loss: 625.0369 - val_loss: 261.9664 - 6s/epoch - 3ms/step\n",
            "Epoch 3/3\n",
            "1976/1976 - 7s - loss: 620.6981 - val_loss: 277.8969 - 7s/epoch - 3ms/step\n"
          ]
        },
        {
          "data": {
            "text/plain": [
              "<keras.src.callbacks.History at 0x2561d87e850>"
            ]
          },
          "execution_count": 17,
          "metadata": {},
          "output_type": "execute_result"
        }
      ],
      "source": [
        "from tensorflow.keras.models import Sequential\n",
        "from tensorflow.keras.layers import Dense, Embedding\n",
        "from tensorflow.keras.layers import LSTM\n",
        "from tensorflow.keras.callbacks import EarlyStopping\n",
        "import numpy as np\n",
        "\n",
        "print('Build model...')\n",
        "model = Sequential()\n",
        "\n",
        "model.add(LSTM(64, dropout=0.1, recurrent_dropout=0.1, input_shape=(SEQUENCE_SIZE, 1)))\n",
        "model.add(Dense(32))\n",
        "model.add(Dense(1))\n",
        "\n",
        "model.compile(loss='mean_squared_error', optimizer='adam')\n",
        "\n",
        "monitor = EarlyStopping(monitor='val_loss', min_delta=1e-3, patience=5, verbose=1, mode='auto')\n",
        "print('Train...')\n",
        "\n",
        "model.fit(x_train,y_train,validation_data=(x_test,y_test), callbacks=[monitor],verbose=2, epochs=3)"
      ]
    },
    {
      "cell_type": "code",
      "execution_count": 18,
      "metadata": {
        "colab": {
          "base_uri": "https://localhost:8080/"
        },
        "id": "ST-FFmYvpCB1",
        "outputId": "8f93fc82-cb39-4940-d2af-7cf65a160b3c"
      },
      "outputs": [
        {
          "name": "stdout",
          "output_type": "stream",
          "text": [
            "277/277 [==============================] - 0s 1ms/step\n",
            "Score (RMSE): 16.67023780434284\n"
          ]
        }
      ],
      "source": [
        "from sklearn import metrics\n",
        "\n",
        "pred = model.predict(x_test)\n",
        "score = np.sqrt(metrics.mean_squared_error(pred,y_test))\n",
        "print(\"Score (RMSE): {}\".format(score))"
      ]
    },
    {
      "cell_type": "markdown",
      "metadata": {
        "id": "kAmApWI9pCB2"
      },
      "source": [
        "## Stacking Several LSTM Layers\n",
        "\n",
        "https://keras.io/layers/recurrent/\n",
        "\n",
        "\n",
        "### Accessing the hidden state output   $\\hat{y}$  for each time slice\n",
        "\n",
        "\n",
        "It is possible to access the hidden state output $\\hat{y}$ (the cell output) for each time slice, which can be useful when developing sophisticated recurrent neural network architectures, such as the encoder-decoder model. This can be done by setting the ***return_sequences parameter to True*** when defining the LSTM layer\n",
        "\n",
        "***You must set return_sequences=True when stacking multiple LSTM layers.***\n",
        "\n",
        "\n",
        "\n",
        "model = Sequential()\n",
        "\n",
        "model.add(LSTM(..., return_sequences=True, input_shape=(...)))\n",
        "\n",
        "model.add(LSTM(..., return_sequences=True))\n",
        "\n",
        "model.add(LSTM(..., return_sequences=True))\n",
        "\n",
        "model.add(LSTM(...))\n",
        "\n",
        "model.add(Dense(...))"
      ]
    },
    {
      "cell_type": "markdown",
      "metadata": {
        "id": "hoUmeYlBpCB2"
      },
      "source": [
        "### Accessing the context values (internal state) $c$ for each time slice\n",
        "\n",
        "***the return_state argument provides access to the context values (internal state) $c$ for each time slice***\n",
        "\n",
        "\n",
        "For example, we can access both the sequence of hidden state output and the internal states at the same time.\n",
        "\n",
        "This can be done as follows:\n",
        "\n",
        "LSTM(..., return_sequences=True, return_state=True)"
      ]
    },
    {
      "cell_type": "code",
      "execution_count": 20,
      "metadata": {
        "id": "kKL7xQVApCB2"
      },
      "outputs": [],
      "source": [
        "import tensorflow as tf\n",
        "import tensorflow_datasets as tfds\n",
        "\n"
      ]
    },
    {
      "cell_type": "markdown",
      "metadata": {
        "id": "CMKMa0nRpCB3"
      },
      "source": [
        "### Loading the IMDB Reviews Dataset"
      ]
    },
    {
      "cell_type": "markdown",
      "metadata": {
        "id": "IcUPg4wqpCB3"
      },
      "source": [
        "IMDB Reviews Dataset can be downloaded from the built-in datasets in Keras.  There are 25,000 samples of movie reviews for training and 25,000 samples for validation. Setting `max_features` to 20,000 means we are only considering the first 20,000 words and the rest of the words will have the out-of-vocabulary token. Each movie review has a positive or negative label.\n",
        "\n",
        "The training and validation datasets will be loaded as lists with 25,000 elements."
      ]
    },
    {
      "cell_type": "code",
      "execution_count": 21,
      "metadata": {
        "colab": {
          "base_uri": "https://localhost:8080/"
        },
        "id": "T-oxih2ypCB3",
        "outputId": "c0f48618-d7ac-4a68-f800-e77c99a79cf1"
      },
      "outputs": [
        {
          "name": "stdout",
          "output_type": "stream",
          "text": [
            "Downloading data from https://storage.googleapis.com/tensorflow/tf-keras-datasets/imdb.npz\n",
            "17464789/17464789 [==============================] - 3s 0us/step\n"
          ]
        }
      ],
      "source": [
        "max_features = 20000\n",
        "\n",
        "(train_data, train_labels), (val_data, val_labels) = tf.keras.datasets.imdb.load_data(num_words=max_features)"
      ]
    },
    {
      "cell_type": "markdown",
      "metadata": {
        "id": "9fA2d0IjpCCC"
      },
      "source": [
        "Displayed below is the third movie review. It is also a list, it contains 141 words, and as we can see the words in the dataset are already converted to tokens."
      ]
    },
    {
      "cell_type": "code",
      "execution_count": 22,
      "metadata": {
        "colab": {
          "base_uri": "https://localhost:8080/"
        },
        "id": "Ocb3hF3lpCCC",
        "outputId": "85cd8fe2-e6a7-4b50-848f-e4a85de5146b"
      },
      "outputs": [
        {
          "name": "stdout",
          "output_type": "stream",
          "text": [
            "Number of words in the third review 141\n",
            "[1, 14, 47, 8, 30, 31, 7, 4, 249, 108, 7, 4, 5974, 54, 61, 369, 13, 71, 149, 14, 22, 112, 4, 2401, 311, 12, 16, 3711, 33, 75, 43, 1829, 296, 4, 86, 320, 35, 534, 19, 263, 4821, 1301, 4, 1873, 33, 89, 78, 12, 66, 16, 4, 360, 7, 4, 58, 316, 334, 11, 4, 1716, 43, 645, 662, 8, 257, 85, 1200, 42, 1228, 2578, 83, 68, 3912, 15, 36, 165, 1539, 278, 36, 69, 2, 780, 8, 106, 14, 6905, 1338, 18, 6, 22, 12, 215, 28, 610, 40, 6, 87, 326, 23, 2300, 21, 23, 22, 12, 272, 40, 57, 31, 11, 4, 22, 47, 6, 2307, 51, 9, 170, 23, 595, 116, 595, 1352, 13, 191, 79, 638, 89, 2, 14, 9, 8, 106, 607, 624, 35, 534, 6, 227, 7, 129, 113]\n"
          ]
        }
      ],
      "source": [
        "# Display the third movie review\n",
        "print('Number of words in the third review', len(train_data[2]))\n",
        "print(train_data[2])"
      ]
    },
    {
      "cell_type": "code",
      "execution_count": 23,
      "metadata": {
        "colab": {
          "base_uri": "https://localhost:8080/"
        },
        "id": "3phpmUxBpCCD",
        "outputId": "f53219e6-0c3f-4481-cef6-fc8d338901ed"
      },
      "outputs": [
        {
          "data": {
            "text/plain": [
              "array([1, 0, 0, 1, 0, 0, 1, 0, 1, 0], dtype=int64)"
            ]
          },
          "execution_count": 23,
          "metadata": {},
          "output_type": "execute_result"
        }
      ],
      "source": [
        "# Display the first 10 labels\n",
        "train_labels[:10]"
      ]
    },
    {
      "cell_type": "markdown",
      "metadata": {
        "id": "b4l98HfppCCE"
      },
      "source": [
        "### Preparing the Dataset"
      ]
    },
    {
      "cell_type": "markdown",
      "metadata": {
        "id": "bWbA1WMwpCCE"
      },
      "source": [
        "Let's pad the data using the `pad_sequences` function in Keras. Setting `maxlen` indicates to use the first 200 words in each movie review, and ignore the rest. Most movie reviews in the dataset are shorter than 200 words, however for those that are longer than 200 words some information will be lost. That is a tradeoff between computational expense and model performance.\n",
        "\n",
        "We can see in the next cell that for the third reivew, which has a length of 141 words, the first 59 words are now 0, and the length is 200."
      ]
    },
    {
      "cell_type": "code",
      "execution_count": 24,
      "metadata": {
        "id": "DtcQKTTbpCCE"
      },
      "outputs": [],
      "source": [
        "from tensorflow.keras.preprocessing.sequence import pad_sequences\n",
        "\n",
        "train_data = pad_sequences(train_data, maxlen=200, padding='post')\n",
        "val_data = pad_sequences(val_data, maxlen=200, padding='post')"
      ]
    },
    {
      "cell_type": "code",
      "execution_count": 25,
      "metadata": {
        "colab": {
          "base_uri": "https://localhost:8080/"
        },
        "id": "7nNhuhjepCCF",
        "outputId": "eff44a14-a649-4dab-8630-be09e13eee5b"
      },
      "outputs": [
        {
          "name": "stdout",
          "output_type": "stream",
          "text": [
            "Shape of the third padded review: (200,) \n",
            "\n",
            "[   1   14   47    8   30   31    7    4  249  108    7    4 5974   54\n",
            "   61  369   13   71  149   14   22  112    4 2401  311   12   16 3711\n",
            "   33   75   43 1829  296    4   86  320   35  534   19  263 4821 1301\n",
            "    4 1873   33   89   78   12   66   16    4  360    7    4   58  316\n",
            "  334   11    4 1716   43  645  662    8  257   85 1200   42 1228 2578\n",
            "   83   68 3912   15   36  165 1539  278   36   69    2  780    8  106\n",
            "   14 6905 1338   18    6   22   12  215   28  610   40    6   87  326\n",
            "   23 2300   21   23   22   12  272   40   57   31   11    4   22   47\n",
            "    6 2307   51    9  170   23  595  116  595 1352   13  191   79  638\n",
            "   89    2   14    9    8  106  607  624   35  534    6  227    7  129\n",
            "  113    0    0    0    0    0    0    0    0    0    0    0    0    0\n",
            "    0    0    0    0    0    0    0    0    0    0    0    0    0    0\n",
            "    0    0    0    0    0    0    0    0    0    0    0    0    0    0\n",
            "    0    0    0    0    0    0    0    0    0    0    0    0    0    0\n",
            "    0    0    0    0]\n"
          ]
        }
      ],
      "source": [
        "# Display the third movie review\n",
        "print('Shape of the third padded review:', train_data[2].shape, '\\n')\n",
        "print(train_data[2])"
      ]
    },
    {
      "cell_type": "markdown",
      "metadata": {
        "id": "eYj64OvZpCCF"
      },
      "source": [
        "## Build and Compile the Model\n",
        "\n",
        "You can build multiple layer LSTM models by simply appending another `LSTM` layer in your `Sequential` model and enabling the `return_sequences` flag to `True`. This is because an `LSTM` layer expects a sequence input so if the previous layer is also an LSTM, then it should output a sequence as well. See the code cell below that demonstrates this flag in action. You'll notice that the output dimension is in 3 dimensions `(batch_size, timesteps, features)` when when `return_sequences` is True."
      ]
    },
    {
      "cell_type": "markdown",
      "metadata": {
        "id": "3m9CbEqEpCCF"
      },
      "source": [
        "The next cell implements the stacked LSTM architecture."
      ]
    },
    {
      "cell_type": "code",
      "execution_count": 26,
      "metadata": {
        "colab": {
          "base_uri": "https://localhost:8080/"
        },
        "id": "29lFXu4apCCG",
        "outputId": "8782509c-fb54-4acb-8c9d-2d181e49364a"
      },
      "outputs": [
        {
          "name": "stdout",
          "output_type": "stream",
          "text": [
            "Model: \"sequential_2\"\n",
            "_________________________________________________________________\n",
            " Layer (type)                Output Shape              Param #   \n",
            "=================================================================\n",
            " embedding (Embedding)       (None, None, 64)          1280000   \n",
            "                                                                 \n",
            " bidirectional (Bidirection  (None, None, 128)         66048     \n",
            " al)                                                             \n",
            "                                                                 \n",
            " bidirectional_1 (Bidirecti  (None, 64)                41216     \n",
            " onal)                                                           \n",
            "                                                                 \n",
            " dense_3 (Dense)             (None, 64)                4160      \n",
            "                                                                 \n",
            " dense_4 (Dense)             (None, 1)                 65        \n",
            "                                                                 \n",
            "=================================================================\n",
            "Total params: 1391489 (5.31 MB)\n",
            "Trainable params: 1391489 (5.31 MB)\n",
            "Non-trainable params: 0 (0.00 Byte)\n",
            "_________________________________________________________________\n"
          ]
        }
      ],
      "source": [
        "import tensorflow as tf\n",
        "\n",
        "# Hyperparameters\n",
        "\n",
        "batch_size = 64\n",
        "timesteps = 200\n",
        "\n",
        "embedding_dim = 64\n",
        "lstm1_dim = 64\n",
        "lstm2_dim = 32\n",
        "dense_dim = 64\n",
        "\n",
        "# Build the model\n",
        "model = tf.keras.Sequential([\n",
        "    tf.keras.layers.Embedding(input_dim=max_features, output_dim=embedding_dim),\n",
        "    tf.keras.layers.Bidirectional(tf.keras.layers.LSTM(lstm1_dim, return_sequences=True)),\n",
        "    tf.keras.layers.Bidirectional(tf.keras.layers.LSTM(lstm2_dim)),\n",
        "    tf.keras.layers.Dense(dense_dim, activation='relu'),\n",
        "    tf.keras.layers.Dense(1, activation='sigmoid')\n",
        "])\n",
        "\n",
        "# Print the model summary\n",
        "model.summary()"
      ]
    },
    {
      "cell_type": "code",
      "execution_count": 27,
      "metadata": {
        "id": "D8YXFKaDpCCG"
      },
      "outputs": [],
      "source": [
        "# Set the training parameters\n",
        "model.compile(loss='binary_crossentropy', optimizer='adam', metrics=['accuracy'])"
      ]
    },
    {
      "cell_type": "markdown",
      "metadata": {
        "id": "hzJlzU1upCCG"
      },
      "source": [
        "## Train the Model\n",
        "\n",
        "The additional LSTM layer will lengthen the training time compared to the previous lab. Given the default parameters we set, it will take around 2 minutes per epoch with the Colab GPU enabled."
      ]
    },
    {
      "cell_type": "code",
      "execution_count": 28,
      "metadata": {
        "colab": {
          "base_uri": "https://localhost:8080/"
        },
        "id": "8-pc3ji1pCCH",
        "outputId": "118b1895-4841-4c0f-8f6b-84a023b8b8d8"
      },
      "outputs": [
        {
          "name": "stdout",
          "output_type": "stream",
          "text": [
            "Epoch 1/10\n",
            "16/16 [==============================] - 7s 160ms/step - loss: 0.6937 - accuracy: 0.4880 - val_loss: 0.6935 - val_accuracy: 0.4780\n",
            "Epoch 2/10\n",
            "16/16 [==============================] - 1s 94ms/step - loss: 0.6854 - accuracy: 0.6060 - val_loss: 0.6868 - val_accuracy: 0.5380\n",
            "Epoch 3/10\n",
            "16/16 [==============================] - 1s 94ms/step - loss: 0.4834 - accuracy: 0.8280 - val_loss: 0.7365 - val_accuracy: 0.6200\n",
            "Epoch 4/10\n",
            "16/16 [==============================] - 1s 92ms/step - loss: 0.0576 - accuracy: 0.9840 - val_loss: 1.2085 - val_accuracy: 0.7240\n",
            "Epoch 5/10\n",
            "16/16 [==============================] - 1s 93ms/step - loss: 0.0988 - accuracy: 0.9780 - val_loss: 1.0199 - val_accuracy: 0.6860\n",
            "Epoch 6/10\n",
            "16/16 [==============================] - 1s 92ms/step - loss: 0.0247 - accuracy: 0.9960 - val_loss: 0.9180 - val_accuracy: 0.6780\n",
            "Epoch 7/10\n",
            "16/16 [==============================] - 1s 93ms/step - loss: 0.0044 - accuracy: 1.0000 - val_loss: 1.1402 - val_accuracy: 0.7140\n",
            "Epoch 8/10\n",
            "16/16 [==============================] - 1s 93ms/step - loss: 0.0015 - accuracy: 1.0000 - val_loss: 1.2734 - val_accuracy: 0.7240\n",
            "Epoch 9/10\n",
            "16/16 [==============================] - 1s 92ms/step - loss: 8.6605e-04 - accuracy: 1.0000 - val_loss: 1.3570 - val_accuracy: 0.7220\n",
            "Epoch 10/10\n",
            "16/16 [==============================] - 1s 93ms/step - loss: 6.2332e-04 - accuracy: 1.0000 - val_loss: 1.4148 - val_accuracy: 0.7220\n"
          ]
        }
      ],
      "source": [
        "history = model.fit(train_data[0:500], train_labels[0:500], validation_data = (val_data[0:500], val_labels[0:500]), epochs=10)"
      ]
    },
    {
      "cell_type": "code",
      "execution_count": 29,
      "metadata": {
        "colab": {
          "base_uri": "https://localhost:8080/",
          "height": 881
        },
        "id": "7SzX98DopCCH",
        "outputId": "a7f2b1bf-b778-4a04-dc76-8a56b85cdc06"
      },
      "outputs": [
        {
          "data": {
            "image/png": "[encoded data removed]",
            "text/plain": [
              "<Figure size 640x480 with 1 Axes>"
            ]
          },
          "metadata": {},
          "output_type": "display_data"
        },
        {
          "data": {
            "image/png": "[encoded data removed]",
            "text/plain": [
              "<Figure size 640x480 with 1 Axes>"
            ]
          },
          "metadata": {},
          "output_type": "display_data"
        }
      ],
      "source": [
        "import matplotlib.pyplot as plt\n",
        "\n",
        "# Plot utility\n",
        "def plot_graphs(history, string):\n",
        "  plt.plot(history.history[string])\n",
        "  plt.plot(history.history['val_'+string])\n",
        "  plt.xlabel(\"Epochs\")\n",
        "  plt.ylabel(string)\n",
        "  plt.legend([string, 'val_'+string])\n",
        "  plt.show()\n",
        "\n",
        "# Plot the accuracy and results\n",
        "plot_graphs(history, \"accuracy\")\n",
        "plot_graphs(history, \"loss\")"
      ]
    },
    {
      "cell_type": "markdown",
      "metadata": {
        "id": "5vbht6MLpCCI"
      },
      "source": [
        "### References:\n",
        "\n",
        "* [Google Colab](https://colab.research.google.com/) - Free web based platform that includes Python, Juypter Notebooks, and TensorFlow with free GPU support.  No setup needed.\n",
        "* [IBM Cognitive Class Labs](https://www.datascientistworkbench.com) - Free web based platform that includes Python, Juypter Notebooks, and TensorFlow.  No setup needed.\n",
        "* [Python Anaconda](https://www.continuum.io/downloads) - Python distribution that includes many data science packages, such as Numpy, Scipy, Scikit-Learn, Pandas, and much more.\n",
        "* [TensorFlow](https://www.tensorflow.org/) - Google's mathematics package for deep learning.\n",
        "* [Kaggle](https://www.kaggle.com/) - Competitive data science.  Good source of sample data.\n",
        "* T81-558: Applications of Deep Neural Networks. Instructor: [Jeff Heaton](https://sites.wustl.edu/jeffheaton/)"
      ]
    }
  ],
  "metadata": {
    "anaconda-cloud": {},
    "colab": {
      "provenance": []
    },
    "kernelspec": {
      "display_name": "base",
      "language": "python",
      "name": "python3"
    },
    "language_info": {
      "codemirror_mode": {
        "name": "ipython",
        "version": 3
      },
      "file_extension": ".py",
      "mimetype": "text/x-python",
      "name": "python",
      "nbconvert_exporter": "python",
      "pygments_lexer": "ipython3",
      "version": "3.11.5"
    },
    "vscode": {
      "interpreter": {
        "hash": "cea39816bfa6bd3c0a1f6664bad4835e3a909c2e2cb41a9f2c8a2752fd725301"
      }
    }
  },
  "nbformat": 4,
  "nbformat_minor": 0
}
